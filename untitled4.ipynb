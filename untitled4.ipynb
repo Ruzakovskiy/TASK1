{
  "nbformat": 4,
  "nbformat_minor": 0,
  "metadata": {
    "colab": {
      "provenance": [],
      "authorship_tag": "ABX9TyOkGf7nwGaSYo66gPoisVmp",
      "include_colab_link": true
    },
    "kernelspec": {
      "name": "python3",
      "display_name": "Python 3"
    },
    "language_info": {
      "name": "python"
    }
  },
  "cells": [
    {
      "cell_type": "markdown",
      "metadata": {
        "id": "view-in-github",
        "colab_type": "text"
      },
      "source": [
        "<a href=\"https://colab.research.google.com/github/Ruzakovskiy/TASK1/blob/main/untitled4.ipynb\" target=\"_parent\"><img src=\"https://colab.research.google.com/assets/colab-badge.svg\" alt=\"Open In Colab\"/></a>"
      ]
    },
    {
      "cell_type": "code",
      "execution_count": null,
      "metadata": {
        "id": "AN3CDahRioqA"
      },
      "outputs": [],
      "source": [
        "import numpy as np\n",
        "import pandas as pd\n",
        "import math\n",
        "import random\n",
        "from random import randint"
      ]
    },
    {
      "cell_type": "code",
      "source": [
        "import matplotlib.pyplot as plt\n",
        "import matplotlib.cm as cm"
      ],
      "metadata": {
        "id": "otqPnVUMiq_Z"
      },
      "execution_count": null,
      "outputs": []
    },
    {
      "cell_type": "code",
      "source": [
        "sizeOfMatrix = 7 #7*7\n",
        "agents = {1: 1, 2: 2, 3: 3} #1 - blue; 2 - red; 3 - white;\n",
        "frameNotHapinessNeighbourhood = pd.DataFrame(columns=['address_i', 'address_j'])\n",
        "frameEmptyCells = pd.DataFrame(columns=['address_i', 'address_j'])"
      ],
      "metadata": {
        "id": "yAs6HAKaisrM"
      },
      "execution_count": null,
      "outputs": []
    },
    {
      "cell_type": "code",
      "source": [
        "def randomFilling(sizeOfMatrix, agents, data): #Функция заполнения \n",
        "  blueCells = 0.45 #Процентное соотношение синих к общему числу\n",
        "  redCells = 0.45 #Процентное соотношение красных к общему числу\n",
        "  whiteCells = 0.10 #Процентное соотношение белых (пустых) к общему числу\n",
        "  sizeOfBlue = 0 #Количество синих клеток за заданный промежуток времени\n",
        "  sizeOfRed = 0 #Количество красных клеток за заданный промежуток времени\n",
        "  sizeOfWhite = 0 #Количество белых (пустых) клеток за заданный промежуток времени\n",
        "\n",
        "  maxValueBlue = round((sizeOfMatrix ** 2) * blueCells) #Вычисление максимального количества синих клеток \n",
        "  maxValueRed = round((sizeOfMatrix ** 2) * redCells) #Вычисление максимального количества красных клеток \n",
        "  maxValueWhite = round((sizeOfMatrix ** 2) * whiteCells) #Вычисление максимального количества пустых клеток \n",
        "\n",
        "  for i in range(sizeOfMatrix): #Рандомно заполняем сетку в заисимости от условия\n",
        "    for j in range(sizeOfMatrix):\n",
        "      successOfCell = False\n",
        "\n",
        "      while successOfCell != True:\n",
        "        randomValue = randint(1,3)\n",
        "        if randomValue == 1 and sizeOfBlue < maxValueBlue:\n",
        "          data[i][j] = agents[1] #blue \n",
        "          sizeOfBlue = sizeOfBlue + 1\n",
        "          successOfCell = True\n",
        "        if randomValue == 2 and sizeOfRed < maxValueRed:\n",
        "          data[i][j] = agents[2] #red\n",
        "          sizeOfRed = sizeOfRed + 1\n",
        "          successOfCell = True\n",
        "        if randomValue == 3 and sizeOfWhite < maxValueWhite:\n",
        "          data[i][j] = agents[3] #white\n",
        "          sizeOfWhite = sizeOfWhite + 1\n",
        "          successOfCell = True\n",
        "        if sizeOfBlue == maxValueBlue & sizeOfRed == maxValueRed & sizeOfWhite == maxValueWhite:\n",
        "          successOfCell = True\n",
        "\n",
        "  return data"
      ],
      "metadata": {
        "id": "HuEMPpUziuNU"
      },
      "execution_count": null,
      "outputs": []
    },
    {
      "cell_type": "code",
      "source": [
        "def Iterations(data, sizeOfMatrix, frameEmptyCells, frameNotHapinessNeighbourhood): #Функция определения несчатливых клеток\n",
        "  frameEmptyCells = frameEmptyCells.iloc[0:0]\n",
        "  frameNotHapinessNeighbourhood = frameNotHapinessNeighbourhood.iloc[0:0]\n",
        "  for i in range(sizeOfMatrix):\n",
        "    for j in range(sizeOfMatrix):\n",
        "      countOfHappyNeighbors = 0\n",
        "      if i == 0 and j == 0: #В случае если клетка в крайне левом верхнем положении\n",
        "        if data[i][j] == data[i][j + 1]: \n",
        "          countOfHappyNeighbors = countOfHappyNeighbors + 1\n",
        "        if data[i][j] == data[i + 1][j]:\n",
        "          countOfHappyNeighbors = countOfHappyNeighbors + 1\n",
        "        if data[i][j] == data[i + 1][j + 1]:\n",
        "          countOfHappyNeighbors = countOfHappyNeighbors + 1\n",
        "      elif i == sizeOfMatrix - 1 and j == 0: #В случае если клетка в крайне левом нижнем положении\n",
        "        if data[i][j] == data[i - 1][j]:\n",
        "          countOfHappyNeighbors = countOfHappyNeighbors + 1\n",
        "        if data[i][j] == data[i - 1][j + 1]:\n",
        "          countOfHappyNeighbors = countOfHappyNeighbors + 1\n",
        "        if data[i][j] == data[i][j + 1]:\n",
        "          countOfHappyNeighbors = countOfHappyNeighbors + 1\n",
        "      elif i == 0 and j == sizeOfMatrix - 1: #В случае если клетка в крайне правом верхнем положении\n",
        "        if data[i][j] == data[i][j - 1]:\n",
        "          countOfHappyNeighbors = countOfHappyNeighbors + 1\n",
        "        if data[i][j] == data[i + 1][j - 1]:\n",
        "          countOfHappyNeighbors = countOfHappyNeighbors + 1\n",
        "        if data[i][j] == data[i + 1][j]:\n",
        "          countOfHappyNeighbors = countOfHappyNeighbors + 1\n",
        "      elif i == sizeOfMatrix - 1 and j == sizeOfMatrix - 1: #В случае если клетка в крайне правом нижнем положении\n",
        "        if data[i][j] == data[i][j - 1]:\n",
        "          countOfHappyNeighbors = countOfHappyNeighbors + 1\n",
        "        if data[i][j] == data[i - 1][j - 1]:\n",
        "          countOfHappyNeighbors = countOfHappyNeighbors + 1\n",
        "        if data[i][j] == data[i - 1][j]:\n",
        "          countOfHappyNeighbors = countOfHappyNeighbors + 1\n",
        "    \n",
        "\n",
        "      elif i - 1 < 0: #Условие если заднная клетка находится на крайне верхней грани \n",
        "        if data[i][j] == data[i][j - 1]:\n",
        "          countOfHappyNeighbors = countOfHappyNeighbors + 1\n",
        "        if data[i][j] == data[i][j + 1]:\n",
        "          countOfHappyNeighbors = countOfHappyNeighbors + 1\n",
        "        if data[i][j] == data[i + 1][j - 1]:\n",
        "          countOfHappyNeighbors = countOfHappyNeighbors + 1\n",
        "        if data[i][j] == data[i + 1][j]:\n",
        "          countOfHappyNeighbors = countOfHappyNeighbors + 1\n",
        "        if data[i][j] == data[i + 1][j + 1]:\n",
        "          countOfHappyNeighbors = countOfHappyNeighbors + 1\n",
        "\n",
        "      elif j - 1 < 0: #Условие если заднная клетка находится на крайне левой грани \n",
        "        if data[i][j] == data[i - 1][j]:\n",
        "          countOfHappyNeighbors = countOfHappyNeighbors + 1\n",
        "        if data[i][j] == data[i + 1][j]:\n",
        "          countOfHappyNeighbors = countOfHappyNeighbors + 1\n",
        "        if data[i][j] == data[i][j + 1]:\n",
        "          countOfHappyNeighbors = countOfHappyNeighbors + 1\n",
        "        if data[i][j] == data[i - 1][j + 1]:\n",
        "          countOfHappyNeighbors = countOfHappyNeighbors + 1\n",
        "        if data[i][j] == data[i + 1][j + 1]:\n",
        "          countOfHappyNeighbors = countOfHappyNeighbors + 1\n",
        "\n",
        "      elif j + 1 == sizeOfMatrix: #Условие если заднная клетка находится на крайне правой грани \n",
        "        if data[i][j] == data[i - 1][j]:\n",
        "          countOfHappyNeighbors = countOfHappyNeighbors + 1\n",
        "        if data[i][j] == data[i + 1][j]:\n",
        "          countOfHappyNeighbors = countOfHappyNeighbors + 1\n",
        "        if data[i][j] == data[i - 1][j - 1]:\n",
        "          countOfHappyNeighbors = countOfHappyNeighbors + 1\n",
        "        if data[i][j] == data[i][j - 1]:\n",
        "          countOfHappyNeighbors = countOfHappyNeighbors + 1\n",
        "        if data[i][j] == data[i + 1][j - 1]:\n",
        "          countOfHappyNeighbors = countOfHappyNeighbors + 1\n",
        " \n",
        "      elif i + 1 == sizeOfMatrix: #Условие если заднная клетка находится на крайне нижней грани \n",
        "        if data[i][j] == data[i][j - 1]:\n",
        "          countOfHappyNeighbors = countOfHappyNeighbors + 1\n",
        "        if data[i][j] == data[i][j + 1]:\n",
        "          countOfHappyNeighbors = countOfHappyNeighbors + 1\n",
        "        if data[i][j] == data[i - 1][j - 1]:\n",
        "          countOfHappyNeighbors = countOfHappyNeighbors + 1\n",
        "        if data[i][j] == data[i - 1][j]:\n",
        "          countOfHappyNeighbors = countOfHappyNeighbors + 1\n",
        "        if data[i][j] == data[i - 1][j + 1]:\n",
        "          countOfHappyNeighbors = countOfHappyNeighbors + 1\n",
        "\n",
        "      else: #Условие если заднная клетка имеет соседей со всех сторон\n",
        "        if data[i][j] == data[i - 1][j - 1]:\n",
        "          countOfHappyNeighbors = countOfHappyNeighbors + 1\n",
        "        if data[i][j] == data[i - 1][j]:\n",
        "          countOfHappyNeighbors = countOfHappyNeighbors + 1\n",
        "        if data[i][j] == data[i - 1][j + 1]:\n",
        "          countOfHappyNeighbors = countOfHappyNeighbors + 1\n",
        "        if data[i][j] == data[i][j + 1]:\n",
        "          countOfHappyNeighbors = countOfHappyNeighbors + 1\n",
        "        if data[i][j] == data[i + 1][j + 1]:\n",
        "          countOfHappyNeighbors = countOfHappyNeighbors + 1\n",
        "        if data[i][j] == data[i + 1][j]:\n",
        "          countOfHappyNeighbors = countOfHappyNeighbors + 1\n",
        "        if data[i][j] == data[i + 1][j - 1]:\n",
        "          countOfHappyNeighbors = countOfHappyNeighbors + 1\n",
        "        if data[i][j] == data[i][j - 1]:\n",
        "          countOfHappyNeighbors = countOfHappyNeighbors + 1\n",
        "\n",
        "      if data[i][j] == agents[3]:\n",
        "        frameEmptyCells = frameEmptyCells.append({'address_i': i, 'address_j': j}, ignore_index=True)\n",
        "\n",
        "      if countOfHappyNeighbors < 2:\n",
        "        if data[i][j] == agents[3]:\n",
        "          continue\n",
        "        frameNotHapinessNeighbourhood = frameNotHapinessNeighbourhood.append({'address_i': i, 'address_j': j}, ignore_index=True)\n",
        "\n",
        "  return (frameNotHapinessNeighbourhood, frameEmptyCells)\n"
      ],
      "metadata": {
        "id": "0d0tTm47ivvj"
      },
      "execution_count": null,
      "outputs": []
    },
    {
      "cell_type": "code",
      "source": [
        "def ChangeData(data, frameNotHapinessNeighbourhood, frameEmptyCells): #Функция перестановки \n",
        "  tempEmptyCells = frameEmptyCells.sample()\n",
        "  frameEmptyCells.drop(labels = tempEmptyCells.index, axis = 0, inplace = True)\n",
        "  print(tempEmptyCells)\n",
        "\n",
        "  tempNotHappinessCells = frameNotHapinessNeighbourhood.sample()\n",
        "  frameNotHapinessNeighbourhood.drop(labels = tempNotHappinessCells.index, axis = 0, inplace = True)\n",
        "  print(tempNotHappinessCells)\n",
        "\n",
        "  data[int(tempEmptyCells.address_i)][int(tempEmptyCells.address_j)] = data[int(tempNotHappinessCells.address_i)][int(tempNotHappinessCells.address_j)]\n",
        "  data[int(tempNotHappinessCells.address_i)][int(tempNotHappinessCells.address_j)] = agents[3]\n",
        "  frameEmptyCells = frameEmptyCells.append({'address_i': int(tempNotHappinessCells.address_i), 'address_j': int(tempNotHappinessCells.address_j)}, ignore_index=True)\n",
        "  \n",
        "  return data"
      ],
      "metadata": {
        "id": "zzNYc96aizCN"
      },
      "execution_count": null,
      "outputs": []
    },
    {
      "cell_type": "code",
      "source": [
        "def СonversionСolorScheme(sizeOfMatrix, data, agents): #Преобразование data в сетку из 3 элементов\n",
        "  A1 = np.zeros((sizeOfMatrix, sizeOfMatrix))\n",
        "  A2 = np.zeros((sizeOfMatrix, sizeOfMatrix))\n",
        "\n",
        "  A1[A1==0] = None\n",
        "  A2[A2==0] = None\n",
        "\n",
        "  pwargs = {'interpolation':'nearest'}\n",
        "  for i in range(sizeOfMatrix):\n",
        "    for j in range(sizeOfMatrix):\n",
        "      if data[i][j] == agents[1]:\n",
        "        A1[i,j] = 1\n",
        "        plt.imshow(A1,cmap=plt.cm.jet,**pwargs)\n",
        "      if data[i][j] == agents[2]:\n",
        "        A2[i,j] = 1\n",
        "        plt.imshow(A2,cmap=plt.cm.hsv,**pwargs)\n",
        "    \n",
        "  plt.show()"
      ],
      "metadata": {
        "id": "IUr7zUUqi0tp"
      },
      "execution_count": null,
      "outputs": []
    },
    {
      "cell_type": "code",
      "source": [
        "def IterationsSegregation(sizeOfIterations, frameEmptyCells, frameNotHapinessNeighbourhood, sizeOfMatrix, agents): #Вывод клеток за заданное число шагов\n",
        "  data = [] #Массив клеток\n",
        "  for i in range(sizeOfMatrix): #Заполнение его пустыми элементами\n",
        "    data.append([0]*sizeOfMatrix)\n",
        "  data = randomFilling(sizeOfMatrix, agents, data)\n",
        "\n",
        "  for j in range(sizeOfIterations):\n",
        "    СonversionСolorScheme(sizeOfMatrix, data, agents)\n",
        "    SegframeNotHapinessNeighbourhood, SegframeEmptyCells  = Iterations(data, sizeOfMatrix, frameEmptyCells, frameNotHapinessNeighbourhood)\n",
        "    data = ChangeData(data, SegframeNotHapinessNeighbourhood, SegframeEmptyCells)"
      ],
      "metadata": {
        "id": "-YimWYFli2MF"
      },
      "execution_count": null,
      "outputs": []
    },
    {
      "cell_type": "code",
      "source": [
        "IterationsSegregation(10, frameEmptyCells, frameNotHapinessNeighbourhood, sizeOfMatrix, agents)"
      ],
      "metadata": {
        "colab": {
          "base_uri": "https://localhost:8080/",
          "height": 1000
        },
        "id": "1jRuO-nKi3_o",
        "outputId": "a6a4dcae-7b99-4e0f-dc52-1f3f8a3c2c27"
      },
      "execution_count": null,
      "outputs": [
        {
          "output_type": "display_data",
          "data": {
            "text/plain": [
              "<Figure size 432x288 with 1 Axes>"
            ],
            "image/png": "[encoded data removed]"
          },
          "metadata": {
            "needs_background": "light"
          }
        },
        {
          "output_type": "stream",
          "name": "stdout",
          "text": [
            "  address_i address_j\n",
            "1         1         0\n",
            "  address_i address_j\n",
            "5         0         6\n"
          ]
        },
        {
          "output_type": "display_data",
          "data": {
            "text/plain": [
              "<Figure size 432x288 with 1 Axes>"
            ],
            "image/png": "[encoded data removed]"
          },
          "metadata": {
            "needs_background": "light"
          }
        },
        {
          "output_type": "stream",
          "name": "stdout",
          "text": [
            "  address_i address_j\n",
            "2         1         2\n",
            "  address_i address_j\n",
            "1         0         1\n"
          ]
        },
        {
          "output_type": "display_data",
          "data": {
            "text/plain": [
              "<Figure size 432x288 with 1 Axes>"
            ],
            "image/png": "[encoded data removed]"
          },
          "metadata": {
            "needs_background": "light"
          }
        },
        {
          "output_type": "stream",
          "name": "stdout",
          "text": [
            "  address_i address_j\n",
            "4         1         5\n",
            "  address_i address_j\n",
            "7         6         4\n"
          ]
        },
        {
          "output_type": "display_data",
          "data": {
            "text/plain": [
              "<Figure size 432x288 with 1 Axes>"
            ],
            "image/png": "[encoded data removed]"
          },
          "metadata": {
            "needs_background": "light"
          }
        },
        {
          "output_type": "stream",
          "name": "stdout",
          "text": [
            "  address_i address_j\n",
            "2         0         6\n",
            "  address_i address_j\n",
            "4         1         6\n"
          ]
        },
        {
          "output_type": "display_data",
          "data": {
            "text/plain": [
              "<Figure size 432x288 with 1 Axes>"
            ],
            "image/png": "[encoded data removed]"
          },
          "metadata": {
            "needs_background": "light"
          }
        },
        {
          "output_type": "stream",
          "name": "stdout",
          "text": [
            "  address_i address_j\n",
            "1         0         5\n",
            "  address_i address_j\n",
            "4         0         6\n"
          ]
        },
        {
          "output_type": "display_data",
          "data": {
            "text/plain": [
              "<Figure size 432x288 with 1 Axes>"
            ],
            "image/png": "[encoded data removed]"
          },
          "metadata": {
            "needs_background": "light"
          }
        },
        {
          "output_type": "stream",
          "name": "stdout",
          "text": [
            "  address_i address_j\n",
            "4         6         4\n",
            "  address_i address_j\n",
            "5         6         3\n"
          ]
        },
        {
          "output_type": "display_data",
          "data": {
            "text/plain": [
              "<Figure size 432x288 with 1 Axes>"
            ],
            "image/png": "[encoded data removed]"
          },
          "metadata": {
            "needs_background": "light"
          }
        },
        {
          "output_type": "stream",
          "name": "stdout",
          "text": [
            "  address_i address_j\n",
            "2         1         3\n",
            "  address_i address_j\n",
            "3         2         0\n"
          ]
        },
        {
          "output_type": "display_data",
          "data": {
            "text/plain": [
              "<Figure size 432x288 with 1 Axes>"
            ],
            "image/png": "[encoded data removed]"
          },
          "metadata": {
            "needs_background": "light"
          }
        },
        {
          "output_type": "stream",
          "name": "stdout",
          "text": [
            "  address_i address_j\n",
            "4         6         3\n",
            "  address_i address_j\n",
            "4         6         6\n"
          ]
        },
        {
          "output_type": "display_data",
          "data": {
            "text/plain": [
              "<Figure size 432x288 with 1 Axes>"
            ],
            "image/png": "[encoded data removed]"
          },
          "metadata": {
            "needs_background": "light"
          }
        },
        {
          "output_type": "stream",
          "name": "stdout",
          "text": [
            "  address_i address_j\n",
            "2         1         6\n",
            "  address_i address_j\n",
            "0         0         0\n"
          ]
        },
        {
          "output_type": "display_data",
          "data": {
            "text/plain": [
              "<Figure size 432x288 with 1 Axes>"
            ],
            "image/png": "[encoded data removed]"
          },
          "metadata": {
            "needs_background": "light"
          }
        },
        {
          "output_type": "stream",
          "name": "stdout",
          "text": [
            "  address_i address_j\n",
            "2         0         6\n",
            "  address_i address_j\n",
            "0         1         0\n"
          ]
        }
      ]
    }
  ]
}