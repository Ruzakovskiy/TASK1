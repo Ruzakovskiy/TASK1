{
  "nbformat": 4,
  "nbformat_minor": 0,
  "metadata": {
    "colab": {
      "provenance": [],
      "authorship_tag": "ABX9TyPLRUtZuxfHkR1Qwp5lwwbv",
      "include_colab_link": true
    },
    "kernelspec": {
      "name": "python3",
      "display_name": "Python 3"
    },
    "language_info": {
      "name": "python"
    }
  },
  "cells": [
    {
      "cell_type": "markdown",
      "metadata": {
        "id": "view-in-github",
        "colab_type": "text"
      },
      "source": [
        "<a href=\"https://colab.research.google.com/github/Ruzakovskiy/TASK1/blob/main/Untitled2-3.ipynb\" target=\"_parent\"><img src=\"https://colab.research.google.com/assets/colab-badge.svg\" alt=\"Open In Colab\"/></a>"
      ]
    },
    {
      "cell_type": "code",
      "execution_count": 1,
      "metadata": {
        "colab": {
          "base_uri": "https://localhost:8080/"
        },
        "id": "6Df_g_0b7eA-",
        "outputId": "f5d7a28e-0952-4b04-d2d3-e03bc056147b"
      },
      "outputs": [
        {
          "output_type": "stream",
          "name": "stdout",
          "text": [
            "Looking in indexes: https://pypi.org/simple, https://us-python.pkg.dev/colab-wheels/public/simple/\n",
            "Collecting vk\n",
            "  Downloading vk-3.0-py3-none-any.whl (11 kB)\n",
            "Collecting requests~=2.24\n",
            "  Downloading requests-2.28.1-py3-none-any.whl (62 kB)\n",
            "\u001b[K     |████████████████████████████████| 62 kB 1.2 MB/s \n",
            "\u001b[?25hRequirement already satisfied: certifi>=2017.4.17 in /usr/local/lib/python3.7/dist-packages (from requests~=2.24->vk) (2022.9.24)\n",
            "Requirement already satisfied: urllib3<1.27,>=1.21.1 in /usr/local/lib/python3.7/dist-packages (from requests~=2.24->vk) (1.24.3)\n",
            "Requirement already satisfied: idna<4,>=2.5 in /usr/local/lib/python3.7/dist-packages (from requests~=2.24->vk) (2.10)\n",
            "Requirement already satisfied: charset-normalizer<3,>=2 in /usr/local/lib/python3.7/dist-packages (from requests~=2.24->vk) (2.1.1)\n",
            "Installing collected packages: requests, vk\n",
            "  Attempting uninstall: requests\n",
            "    Found existing installation: requests 2.23.0\n",
            "    Uninstalling requests-2.23.0:\n",
            "      Successfully uninstalled requests-2.23.0\n",
            "Successfully installed requests-2.28.1 vk-3.0\n"
          ]
        }
      ],
      "source": [
        "pip install vk"
      ]
    },
    {
      "cell_type": "code",
      "source": [
        "import vk\n",
        "from vk.session import requests\n",
        "import json"
      ],
      "metadata": {
        "id": "16CKOPZR7lot"
      },
      "execution_count": 2,
      "outputs": []
    },
    {
      "cell_type": "code",
      "source": [
        "import numpy as np\n",
        "import pandas as pd\n",
        "from pandas_profiling import ProfileReport"
      ],
      "metadata": {
        "id": "K2CTyg3L7rp9"
      },
      "execution_count": 3,
      "outputs": []
    },
    {
      "cell_type": "code",
      "source": [
        "import copy"
      ],
      "metadata": {
        "id": "cjwqO7D07tId"
      },
      "execution_count": 4,
      "outputs": []
    },
    {
      "cell_type": "code",
      "source": [
        "import networkx as nx\n",
        "import matplotlib as plt\n",
        "plt.rcParams['figure.figsize'] = [50,50]"
      ],
      "metadata": {
        "id": "qUCYWDZK8XC-"
      },
      "execution_count": 7,
      "outputs": []
    },
    {
      "cell_type": "code",
      "source": [
        "from google.colab import files\n",
        "FileRead = open('/content/token.txt', 'r')\n",
        "token = FileRead.read()#Вывод первых 100 символов\n",
        "# в конце файл необходимо закрыть\n",
        "FileRead.close()\n",
        "version = 5.126\n",
        "users_idGroup = [181948702, 154308430, 152087036, 143779216, 185215592, 161594007, 472583599, 113001678, 183648122, 196404046, \n",
        "    85770676, 355133495, 137872152, 102711908, 126568936, 507184348, 458357505, 131765293, 323208790, 173792332, 343410069, \n",
        "    346034855, 255053910, 338686058, 312616596]"
      ],
      "metadata": {
        "colab": {
          "base_uri": "https://localhost:8080/",
          "height": 235
        },
        "id": "OyqqFoPG7uJt",
        "outputId": "4ff7d163-09a1-4313-c280-5620fe8fdc88"
      },
      "execution_count": 8,
      "outputs": [
        {
          "output_type": "error",
          "ename": "FileNotFoundError",
          "evalue": "ignored",
          "traceback": [
            "\u001b[0;31m---------------------------------------------------------------------------\u001b[0m",
            "\u001b[0;31mFileNotFoundError\u001b[0m                         Traceback (most recent call last)",
            "\u001b[0;32m<ipython-input-8-861d056dbc30>\u001b[0m in \u001b[0;36m<module>\u001b[0;34m\u001b[0m\n\u001b[1;32m      1\u001b[0m \u001b[0;32mfrom\u001b[0m \u001b[0mgoogle\u001b[0m\u001b[0;34m.\u001b[0m\u001b[0mcolab\u001b[0m \u001b[0;32mimport\u001b[0m \u001b[0mfiles\u001b[0m\u001b[0;34m\u001b[0m\u001b[0;34m\u001b[0m\u001b[0m\n\u001b[0;32m----> 2\u001b[0;31m \u001b[0mFileRead\u001b[0m \u001b[0;34m=\u001b[0m \u001b[0mopen\u001b[0m\u001b[0;34m(\u001b[0m\u001b[0;34m'/content/token.txt'\u001b[0m\u001b[0;34m,\u001b[0m \u001b[0;34m'r'\u001b[0m\u001b[0;34m)\u001b[0m\u001b[0;34m\u001b[0m\u001b[0;34m\u001b[0m\u001b[0m\n\u001b[0m\u001b[1;32m      3\u001b[0m \u001b[0mtoken\u001b[0m \u001b[0;34m=\u001b[0m \u001b[0mFileRead\u001b[0m\u001b[0;34m.\u001b[0m\u001b[0mread\u001b[0m\u001b[0;34m(\u001b[0m\u001b[0;34m)\u001b[0m\u001b[0;31m#Вывод первых 100 символов\u001b[0m\u001b[0;34m\u001b[0m\u001b[0;34m\u001b[0m\u001b[0m\n\u001b[1;32m      4\u001b[0m \u001b[0;31m# в конце файл необходимо закрыть\u001b[0m\u001b[0;34m\u001b[0m\u001b[0;34m\u001b[0m\u001b[0;34m\u001b[0m\u001b[0m\n\u001b[1;32m      5\u001b[0m \u001b[0mFileRead\u001b[0m\u001b[0;34m.\u001b[0m\u001b[0mclose\u001b[0m\u001b[0;34m(\u001b[0m\u001b[0;34m)\u001b[0m\u001b[0;34m\u001b[0m\u001b[0;34m\u001b[0m\u001b[0m\n",
            "\u001b[0;31mFileNotFoundError\u001b[0m: [Errno 2] No such file or directory: '/content/token.txt'"
          ]
        }
      ]
    },
    {
      "cell_type": "code",
      "source": [
        "def RequestsUsersGet(users_id, i):\n",
        "  response = requests.get(\"https://api.vk.com/method/users.get\",\n",
        "                        params={\n",
        "                            \"user_id\": users_id[i],\n",
        "                            \"name_case\": \"nom\",\n",
        "                            \"fields\": \"nickname\",\n",
        "                            \"access_token\": token,\n",
        "                            \"v\": 5.131\n",
        "                        }\n",
        "                        )  \n",
        "  if(response.json()):\n",
        "    data = response.json()\n",
        "  return data"
      ],
      "metadata": {
        "id": "IJCpCXe-7viF"
      },
      "execution_count": 9,
      "outputs": []
    },
    {
      "cell_type": "code",
      "source": [
        "def RequestsFriendsGet(users_id, j):\n",
        "  response = requests.get(\"https://api.vk.com/method/friends.get\",\n",
        "                        params={\n",
        "                            \"user_id\": users_id[j],\n",
        "                            \"order\": \"name\",\n",
        "                            \"count\": 5000,\n",
        "                            \"offset\": 0,\n",
        "                            \"fields\": \"nickname\",\n",
        "\n",
        "                            \"access_token\": token,\n",
        "                            \"v\": version\n",
        "                        }\n",
        "                        )\n",
        "  if(response.json()):\n",
        "    data = response.json()\n",
        "  return data"
      ],
      "metadata": {
        "id": "Z4Dnx6N07w6U"
      },
      "execution_count": 10,
      "outputs": []
    },
    {
      "cell_type": "code",
      "source": [
        "frameGroup = pd.DataFrame(columns=['main_id', 'first_name', 'last_name'])\n",
        "frameFriends = pd.DataFrame(columns=['main_id', 'id_friend', 'first_name', 'last_name'])\n",
        "frameFriendsOfFriends = pd.DataFrame(columns=['main_id', 'id_friend', 'first_name', 'last_name'])\n",
        "GraphCentrality = nx.Graph()\n",
        "\n",
        "#1 уровень (получаем информацию о одногруппниках)\n",
        "for i in range(len(users_idGroup)):\n",
        "  dataGroup = RequestsUsersGet(users_idGroup, i)\n",
        "  try: \n",
        "    if dataGroup['response'][0]['is_closed'] == True: ClosedAcc = \"Доступ к странице пользователя недоступен\"\n",
        "    else: frameGroup = frameGroup.append({'main_id': dataGroup['response'][0]['id'], 'first_name': dataGroup['response'][0]['first_name'], 'last_name': dataGroup['response'][0]['last_name']}, ignore_index=True)\n",
        "  except:\n",
        "    errorVK = \"Ошибка сервера ВК - не получен доступ к аккаунту\"\n",
        "\n",
        "#2 уровень (получаем информациою о друзьях одногруппников)\n",
        "for j in range(len(frameGroup.main_id)):\n",
        "  dataFriends = RequestsFriendsGet(frameGroup.main_id, j)\n",
        "  countOfUserFriends = dataFriends['response']['count']\n",
        "  for jx in range(countOfUserFriends):\n",
        "    try:\n",
        "      if dataFriends['response']['items'][jx]['deactivated'] == \"banned\": banned = \"Сработало исключение - banned\"\n",
        "      if dataFriends['response']['items'][jx]['deactivated'] == \"deleted\": deleted = \"Сработало исключение - deleted\"\n",
        "    except:  \n",
        "      try: \n",
        "        if dataFriends['response']['items'][jx]['is_closed'] == True: ClosedAcc = \"Доступ к странице пользователя недоступен\"\n",
        "        else: \n",
        "          frameFriends = frameFriends.append({'main_id': frameGroup.main_id[j],'id_friend': dataFriends['response']['items'][jx]['id'], 'first_name': dataFriends['response']['items'][jx]['first_name'], 'last_name': dataFriends['response']['items'][jx]['last_name']}, ignore_index=True)\n",
        "          GraphCentrality.add_edge(frameGroup.first_name[j] + \" \" + frameGroup.last_name[j], dataFriends['response']['items'][jx]['first_name'] + \" \" + dataFriends['response']['items'][jx]['last_name'])\n",
        "      except: errorVK = \"Ошибка сервера ВК - не получен доступ к аккаунту\"\n",
        "\n",
        "\n",
        "#2.1 проверка на связь друзей 2 уровня\n",
        "#for n in range(len(frameFriends.id_friend.unique())):\n",
        "  #ndataFriends = RequestsFriendsGet(frameFriends.id_friend.unique(), n)\n",
        "  #ncountOfUserFriends = ndataFriends['response']['count']\n",
        "  #for nx in range(ndataFriends['response']['count']): \n",
        "    #try:\n",
        "      #if ndataFriends['response']['items'][nx]['deactivated'] == \"banned\": banned = \"Сработало исключение - banned\"\n",
        "      #if ndataFriends['response']['items'][nx]['deactivated'] == \"deleted\": deleted = \"Сработало исключение - deleted\"\n",
        "    #except:  \n",
        "      #try: \n",
        "        #if ndataFriends['response']['items'][nx]['is_closed'] == True: ClosedAcc = \"Доступ к странице пользователя недоступен\"\n",
        "        #else: \n",
        "          #for ny in range(len(frameFriends.id_friend)):\n",
        "            #if ndataFriends['response']['items'][nx]['id'] == frameFriends.id_friend[ny]:\n",
        "              #GraphCentrality.add_edge(frameFriends.first_name[ny] + \" \" + frameFriends.last_name[ny], ndataFriends['response']['items'][nx]['first_name'] + \" \" + ndataFriends['response']['items'][nx]['last_name'])\n",
        "              #break\n",
        "      #except: errorVK = \"Ошибка сервера ВК - не получен доступ к аккаунту\"\n",
        "\n",
        "#3 уровень (получаем информацию о друзьях друзей одногруппников)\n",
        "#for k in range(len(frameFriends.main_id)):\n",
        "  #dataFriendsOfFrineds = RequestsFriendsGet(frameFriends.main_id, k)\n",
        "  #countOfUserFriendsOfFriends = dataFriendsOfFrineds['response']['count']\n",
        "  #for kx in range(countOfUserFriendsOfFriends):\n",
        "    #try:\n",
        "      #if dataFriendsOfFrineds['response']['items'][kx]['deactivated'] == \"banned\": banned = \"Сработало исключение - banned\"\n",
        "      #if dataFriendsOfFrineds['response']['items'][kx]['deactivated'] == \"deleted\": deleted = \"Сработало исключение - deleted\"\n",
        "    #except:  \n",
        "      #try: \n",
        "        #if dataFriendsOfFrineds['response']['items'][kx]['is_closed'] == True: ClosedAcc = \"Доступ к странице пользователя недоступен\"\n",
        "        #else: \n",
        "          #frameFriendsOfFriends = frameFriendsOfFriends.append({'main_id': frameFriends.main_id[j],'id_friend': dataFriendsOfFrineds['response']['items'][jx]['id'], 'first_name': dataFriendsOfFrineds['response']['items'][jx]['first_name'], 'last_name': dataFriendsOfFrineds['response']['items'][jx]['last_name']}, ignore_index=True)\n",
        "          #GraphCentrality.add_edge(frameFriends.first_name[k] + \" \" + frameFriends.last_name[k], dataFriends['response']['items'][kx]['first_name'] + \" \" + dataFriends['response']['items'][kx]['last_name'])\n",
        "      #except: errorVK = \"Ошибка сервера ВК - не получен доступ к аккаунту\"\n",
        "\n",
        "\n",
        "#3.1 проверка на связь друзей 3 уровня\n",
        "#for m in range(len(frameFriendsOfFriends.id_friend.unique())):\n",
        "  #mdataFriendOfFriends = RequestsFriendsGet(frameFriendsOfFriends.id_friend.unique(), m)\n",
        "  #mcountOfUserFriends = mdataFriendOfFriends['response']['count']\n",
        "  #for mx in range(mcountOfUserFriends): \n",
        "    #try:\n",
        "      #if mdataFriendOfFriends['response']['items'][mx]['deactivated'] == \"banned\": banned = \"Сработало исключение - banned\"\n",
        "      #if mdataFriendOfFriends['response']['items'][mx]['deactivated'] == \"deleted\": deleted = \"Сработало исключение - deleted\"\n",
        "    #except:  \n",
        "      #try: \n",
        "        #if mdataFriendOfFriends['response']['items'][mx]['is_closed'] == True: ClosedAcc = \"Доступ к странице пользователя недоступен\"\n",
        "        #else: \n",
        "          #for my in range(len(frameFriendsOfFriends.id_friend)):\n",
        "            #if mdataFriendOfFriends['response']['items'][mx]['id'] == frameFriendsOfFriends.id_friend[my]:\n",
        "              #GraphCentrality.add_edge(frameFriendsOfFriends.first_name[my] + \" \" + frameFriendsOfFriends.last_name[my], mdataFriendOfFriends['response']['items'][mx]['first_name'] + \" \" + mdataFriendOfFriends['response']['items'][mx]['last_name'])\n",
        "              #break\n",
        "      #except: errorVK = \"Ошибка сервера ВК - не получен доступ к аккаунту\""
      ],
      "metadata": {
        "colab": {
          "base_uri": "https://localhost:8080/",
          "height": 235
        },
        "id": "yOWuF6t87yYU",
        "outputId": "8932ecf7-91c8-421e-c139-fd14c86aad91"
      },
      "execution_count": 11,
      "outputs": [
        {
          "output_type": "error",
          "ename": "NameError",
          "evalue": "ignored",
          "traceback": [
            "\u001b[0;31m---------------------------------------------------------------------------\u001b[0m",
            "\u001b[0;31mNameError\u001b[0m                                 Traceback (most recent call last)",
            "\u001b[0;32m<ipython-input-11-b4ce347d3e13>\u001b[0m in \u001b[0;36m<module>\u001b[0;34m\u001b[0m\n\u001b[1;32m      5\u001b[0m \u001b[0;34m\u001b[0m\u001b[0m\n\u001b[1;32m      6\u001b[0m \u001b[0;31m#1 уровень (получаем информацию о одногруппниках)\u001b[0m\u001b[0;34m\u001b[0m\u001b[0;34m\u001b[0m\u001b[0;34m\u001b[0m\u001b[0m\n\u001b[0;32m----> 7\u001b[0;31m \u001b[0;32mfor\u001b[0m \u001b[0mi\u001b[0m \u001b[0;32min\u001b[0m \u001b[0mrange\u001b[0m\u001b[0;34m(\u001b[0m\u001b[0mlen\u001b[0m\u001b[0;34m(\u001b[0m\u001b[0musers_idGroup\u001b[0m\u001b[0;34m)\u001b[0m\u001b[0;34m)\u001b[0m\u001b[0;34m:\u001b[0m\u001b[0;34m\u001b[0m\u001b[0;34m\u001b[0m\u001b[0m\n\u001b[0m\u001b[1;32m      8\u001b[0m   \u001b[0mdataGroup\u001b[0m \u001b[0;34m=\u001b[0m \u001b[0mRequestsUsersGet\u001b[0m\u001b[0;34m(\u001b[0m\u001b[0musers_idGroup\u001b[0m\u001b[0;34m,\u001b[0m \u001b[0mi\u001b[0m\u001b[0;34m)\u001b[0m\u001b[0;34m\u001b[0m\u001b[0;34m\u001b[0m\u001b[0m\n\u001b[1;32m      9\u001b[0m   \u001b[0;32mtry\u001b[0m\u001b[0;34m:\u001b[0m\u001b[0;34m\u001b[0m\u001b[0;34m\u001b[0m\u001b[0m\n",
            "\u001b[0;31mNameError\u001b[0m: name 'users_idGroup' is not defined"
          ]
        }
      ]
    },
    {
      "cell_type": "code",
      "source": [
        "pos = nx.spring_layout(GraphCentrality,scale=40, k=0.30, iterations=20)\n",
        "nx.draw(GraphCentrality, pos, font_size=6, node_size=750, alpha=0.7, with_labels=True, edge_color='gray')\n",
        "nx.draw(GraphCentrality)"
      ],
      "metadata": {
        "id": "wQcawpkq704s"
      },
      "execution_count": 12,
      "outputs": []
    },
    {
      "cell_type": "code",
      "source": [
        "close_centrality = nx.closeness_centrality(GraphCentrality)\n",
        "print(\"Оценка центральности по посредничеству\")\n",
        "print(close_centrality)"
      ],
      "metadata": {
        "colab": {
          "base_uri": "https://localhost:8080/"
        },
        "id": "bESsAV3M72Wk",
        "outputId": "ce4d2184-64ee-4fa9-a93d-fc570788a686"
      },
      "execution_count": 13,
      "outputs": [
        {
          "output_type": "stream",
          "name": "stdout",
          "text": [
            "Оценка центральности по посредничеству\n",
            "{}\n"
          ]
        }
      ]
    },
    {
      "cell_type": "code",
      "source": [
        "bet_centrality = nx.betweenness_centrality(GraphCentrality, normalized = True, endpoints = False)\n",
        "print(\"Оценка центральности по близости\")\n",
        "print(bet_centrality)"
      ],
      "metadata": {
        "colab": {
          "base_uri": "https://localhost:8080/"
        },
        "id": "PxqwADOG739M",
        "outputId": "525b925c-917d-474f-e511-e789a7777cd1"
      },
      "execution_count": 14,
      "outputs": [
        {
          "output_type": "stream",
          "name": "stdout",
          "text": [
            "Оценка центральности по близости\n",
            "{}\n"
          ]
        }
      ]
    },
    {
      "cell_type": "code",
      "source": [
        "eigenvector_centrality = nx.eigenvector_centrality_numpy(GraphCentrality)\n",
        "print(\"Оценка центральности по собственному вектору\")\n",
        "print(eigenvector_centrality)"
      ],
      "metadata": {
        "colab": {
          "base_uri": "https://localhost:8080/",
          "height": 321
        },
        "id": "3WezKWa477R0",
        "outputId": "0712b644-be22-4602-c5d5-4fc11d08453f"
      },
      "execution_count": 15,
      "outputs": [
        {
          "output_type": "error",
          "ename": "NetworkXPointlessConcept",
          "evalue": "ignored",
          "traceback": [
            "\u001b[0;31m---------------------------------------------------------------------------\u001b[0m",
            "\u001b[0;31mNetworkXPointlessConcept\u001b[0m                  Traceback (most recent call last)",
            "\u001b[0;32m<ipython-input-15-079d3db561a3>\u001b[0m in \u001b[0;36m<module>\u001b[0;34m\u001b[0m\n\u001b[0;32m----> 1\u001b[0;31m \u001b[0meigenvector_centrality\u001b[0m \u001b[0;34m=\u001b[0m \u001b[0mnx\u001b[0m\u001b[0;34m.\u001b[0m\u001b[0meigenvector_centrality_numpy\u001b[0m\u001b[0;34m(\u001b[0m\u001b[0mGraphCentrality\u001b[0m\u001b[0;34m)\u001b[0m\u001b[0;34m\u001b[0m\u001b[0;34m\u001b[0m\u001b[0m\n\u001b[0m\u001b[1;32m      2\u001b[0m \u001b[0mprint\u001b[0m\u001b[0;34m(\u001b[0m\u001b[0;34m\"Оценка центральности по собственному вектору\"\u001b[0m\u001b[0;34m)\u001b[0m\u001b[0;34m\u001b[0m\u001b[0;34m\u001b[0m\u001b[0m\n\u001b[1;32m      3\u001b[0m \u001b[0mprint\u001b[0m\u001b[0;34m(\u001b[0m\u001b[0meigenvector_centrality\u001b[0m\u001b[0;34m)\u001b[0m\u001b[0;34m\u001b[0m\u001b[0;34m\u001b[0m\u001b[0m\n",
            "\u001b[0;32m/usr/local/lib/python3.7/dist-packages/networkx/algorithms/centrality/eigenvector.py\u001b[0m in \u001b[0;36meigenvector_centrality_numpy\u001b[0;34m(G, weight, max_iter, tol)\u001b[0m\n\u001b[1;32m    220\u001b[0m     \u001b[0;32mif\u001b[0m \u001b[0mlen\u001b[0m\u001b[0;34m(\u001b[0m\u001b[0mG\u001b[0m\u001b[0;34m)\u001b[0m \u001b[0;34m==\u001b[0m \u001b[0;36m0\u001b[0m\u001b[0;34m:\u001b[0m\u001b[0;34m\u001b[0m\u001b[0;34m\u001b[0m\u001b[0m\n\u001b[1;32m    221\u001b[0m         raise nx.NetworkXPointlessConcept(\n\u001b[0;32m--> 222\u001b[0;31m             \u001b[0;34m\"cannot compute centrality for the null graph\"\u001b[0m\u001b[0;34m\u001b[0m\u001b[0;34m\u001b[0m\u001b[0m\n\u001b[0m\u001b[1;32m    223\u001b[0m         )\n\u001b[1;32m    224\u001b[0m     \u001b[0mM\u001b[0m \u001b[0;34m=\u001b[0m \u001b[0mnx\u001b[0m\u001b[0;34m.\u001b[0m\u001b[0mto_scipy_sparse_matrix\u001b[0m\u001b[0;34m(\u001b[0m\u001b[0mG\u001b[0m\u001b[0;34m,\u001b[0m \u001b[0mnodelist\u001b[0m\u001b[0;34m=\u001b[0m\u001b[0mlist\u001b[0m\u001b[0;34m(\u001b[0m\u001b[0mG\u001b[0m\u001b[0;34m)\u001b[0m\u001b[0;34m,\u001b[0m \u001b[0mweight\u001b[0m\u001b[0;34m=\u001b[0m\u001b[0mweight\u001b[0m\u001b[0;34m,\u001b[0m \u001b[0mdtype\u001b[0m\u001b[0;34m=\u001b[0m\u001b[0mfloat\u001b[0m\u001b[0;34m)\u001b[0m\u001b[0;34m\u001b[0m\u001b[0;34m\u001b[0m\u001b[0m\n",
            "\u001b[0;31mNetworkXPointlessConcept\u001b[0m: cannot compute centrality for the null graph"
          ]
        }
      ]
    }
  ]
}